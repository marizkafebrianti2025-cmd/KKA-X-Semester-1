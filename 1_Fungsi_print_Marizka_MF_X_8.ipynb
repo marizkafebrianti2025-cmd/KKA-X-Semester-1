{
  "nbformat": 4,
  "nbformat_minor": 0,
  "metadata": {
    "colab": {
      "provenance": [],
      "authorship_tag": "ABX9TyNrXF6qdtNyyg4BVH9AoZA7",
      "include_colab_link": true
    },
    "kernelspec": {
      "name": "python3",
      "display_name": "Python 3"
    },
    "language_info": {
      "name": "python"
    }
  },
  "cells": [
    {
      "cell_type": "markdown",
      "metadata": {
        "id": "view-in-github",
        "colab_type": "text"
      },
      "source": [
        "<a href=\"https://colab.research.google.com/github/marizkafebrianti2025-cmd/KKA-X-Semester-1/blob/main/1_Fungsi_print_Marizka_MF_X_8.ipynb\" target=\"_parent\"><img src=\"https://colab.research.google.com/assets/colab-badge.svg\" alt=\"Open In Colab\"/></a>"
      ]
    },
    {
      "cell_type": "markdown",
      "source": [
        "Nama:Marizka Mauliddani Febrianti\n",
        "\n",
        "Kelas:X.8\n",
        "\n",
        "No absen:15"
      ],
      "metadata": {
        "id": "qNbBP68ueGit"
      }
    },
    {
      "cell_type": "markdown",
      "source": [
        "#Menampilkan Teks Bebas"
      ],
      "metadata": {
        "id": "zgahBfUMgCtU"
      }
    },
    {
      "cell_type": "markdown",
      "source": [],
      "metadata": {
        "id": "BbxN4CiZfkTA"
      }
    },
    {
      "cell_type": "markdown",
      "source": [
        "#Menampilkan Text Bebas"
      ],
      "metadata": {
        "id": "wBjx4HBcf2vU"
      }
    },
    {
      "cell_type": "code",
      "execution_count": null,
      "metadata": {
        "colab": {
          "base_uri": "https://localhost:8080/"
        },
        "id": "E9SwXhqOcEcK",
        "outputId": "4cff325e-31f8-4cc7-fd45-0992a38d12db"
      },
      "outputs": [
        {
          "output_type": "stream",
          "name": "stdout",
          "text": [
            "Helo world\n"
          ]
        }
      ],
      "source": [
        "print(\"Helo world\")"
      ]
    },
    {
      "cell_type": "code",
      "source": [
        "print(\"Marizka Mauliddani Febrianti\")"
      ],
      "metadata": {
        "colab": {
          "base_uri": "https://localhost:8080/"
        },
        "id": "JbwCBwyhhXJC",
        "outputId": "d24b9103-f586-44c3-e7a2-c814b3afc8a8"
      },
      "execution_count": null,
      "outputs": [
        {
          "output_type": "stream",
          "name": "stdout",
          "text": [
            "Marizka Mauliddani Febrianti\n"
          ]
        }
      ]
    },
    {
      "cell_type": "markdown",
      "source": [],
      "metadata": {
        "id": "MHLfRLsPeEo4"
      }
    },
    {
      "cell_type": "markdown",
      "source": [
        "#Menampilkan Nilai Variabel"
      ],
      "metadata": {
        "id": "Zk7k_86biTAb"
      }
    },
    {
      "cell_type": "markdown",
      "source": [],
      "metadata": {
        "id": "jSnVior9djHI"
      }
    },
    {
      "cell_type": "code",
      "source": [
        "usia = 15\n",
        "\n",
        "print(usia)"
      ],
      "metadata": {
        "colab": {
          "base_uri": "https://localhost:8080/"
        },
        "id": "RIO_5Le-iirv",
        "outputId": "f53fe34c-8227-4794-b504-b1f4160da9c1"
      },
      "execution_count": null,
      "outputs": [
        {
          "output_type": "stream",
          "name": "stdout",
          "text": [
            "15\n"
          ]
        }
      ]
    },
    {
      "cell_type": "code",
      "source": [
        "Nama = \"Marizka Mauliddani Febrianti\"\n",
        "\n",
        "print(Nama)"
      ],
      "metadata": {
        "colab": {
          "base_uri": "https://localhost:8080/"
        },
        "id": "QYgyUB6JjLqM",
        "outputId": "4f1b56f4-827d-491d-e64f-d99961c295a6"
      },
      "execution_count": null,
      "outputs": [
        {
          "output_type": "stream",
          "name": "stdout",
          "text": [
            "Marizka Mauliddani Febrianti\n"
          ]
        }
      ]
    },
    {
      "cell_type": "code",
      "source": [
        "BB=43\n",
        "print(BB)"
      ],
      "metadata": {
        "colab": {
          "base_uri": "https://localhost:8080/"
        },
        "id": "4Hs19QX-kBH3",
        "outputId": "bb372eee-4a90-4499-ee24-b2a203efcd2a"
      },
      "execution_count": null,
      "outputs": [
        {
          "output_type": "stream",
          "name": "stdout",
          "text": [
            "43\n"
          ]
        }
      ]
    },
    {
      "cell_type": "markdown",
      "source": [
        "#Menampilkan Teks Bebas dan Nilai Variabel"
      ],
      "metadata": {
        "id": "3hV12p28lFLy"
      }
    },
    {
      "cell_type": "code",
      "source": [
        "print(f\"Perkenalkan nama saya{Nama}.\")"
      ],
      "metadata": {
        "colab": {
          "base_uri": "https://localhost:8080/"
        },
        "id": "iIowi7PLlUKL",
        "outputId": "72cd90b3-5bfe-4df3-93a4-82584ba695d7"
      },
      "execution_count": null,
      "outputs": [
        {
          "output_type": "stream",
          "name": "stdout",
          "text": [
            "Perkenalkan nama sayaMarizka Mauliddani Febrianti.\n"
          ]
        }
      ]
    },
    {
      "cell_type": "code",
      "source": [
        "print(f\"Berat badan saya {BB} KG.\")"
      ],
      "metadata": {
        "colab": {
          "base_uri": "https://localhost:8080/"
        },
        "id": "YN5xpJP4l9nk",
        "outputId": "1c9393b9-248b-4489-e5df-70a4ae03f8cc"
      },
      "execution_count": null,
      "outputs": [
        {
          "output_type": "stream",
          "name": "stdout",
          "text": [
            "Berat badan saya 43 KG.\n"
          ]
        }
      ]
    },
    {
      "cell_type": "code",
      "source": [
        "print(\"Perkenalkan nama saya \" + Nama)"
      ],
      "metadata": {
        "colab": {
          "base_uri": "https://localhost:8080/"
        },
        "id": "gYZGG_Q0m4xs",
        "outputId": "0ec2183d-0871-4978-cc04-c4404eb17a49"
      },
      "execution_count": null,
      "outputs": [
        {
          "output_type": "stream",
          "name": "stdout",
          "text": [
            "Perkenalkan nama saya Marizka Mauliddani Febrianti\n"
          ]
        }
      ]
    },
    {
      "cell_type": "code",
      "source": [
        "print(\"Berat badan saya \" + str(BB) + \" KG \")"
      ],
      "metadata": {
        "colab": {
          "base_uri": "https://localhost:8080/"
        },
        "id": "Nga4MGvxnW31",
        "outputId": "21eb37e4-b2b6-4114-bda6-7fd5c12a00ab"
      },
      "execution_count": null,
      "outputs": [
        {
          "output_type": "stream",
          "name": "stdout",
          "text": [
            "Berat badan saya 43 KG \n"
          ]
        }
      ]
    },
    {
      "cell_type": "code",
      "source": [
        "BB=43\n",
        "print(\"Berat badan saya \" , BB , \"KG.\")"
      ],
      "metadata": {
        "colab": {
          "base_uri": "https://localhost:8080/"
        },
        "id": "3aLpykeboc2H",
        "outputId": "f9559d1e-5efd-43de-c151-f466157a710d"
      },
      "execution_count": null,
      "outputs": [
        {
          "output_type": "stream",
          "name": "stdout",
          "text": [
            "Berat badan saya  43 KG.\n"
          ]
        }
      ]
    },
    {
      "cell_type": "markdown",
      "source": [
        "#Escape Character"
      ],
      "metadata": {
        "id": "ZeDp6slphOCk"
      }
    },
    {
      "cell_type": "code",
      "source": [
        "print(\"Nama:Marizka mauliddani febrianti\\nKelas: X.8\\nNo. Absen: 15\")"
      ],
      "metadata": {
        "colab": {
          "base_uri": "https://localhost:8080/"
        },
        "id": "pppFcZVMhgd1",
        "outputId": "3f0630ca-c83e-47be-a3b0-124722c56557"
      },
      "execution_count": null,
      "outputs": [
        {
          "output_type": "stream",
          "name": "stdout",
          "text": [
            "Nama:Marizka mauliddani febrianti\n",
            "Kelas: X.8\n",
            "No. Absen: 15\n"
          ]
        }
      ]
    },
    {
      "cell_type": "code",
      "source": [
        "print(\"\"\"Nama\\t\\t: Marizka mauliddani febrianti\n",
        "Kelas\\t\\t: X.8\n",
        "No. Absen\\t: 15\"\"\")"
      ],
      "metadata": {
        "colab": {
          "base_uri": "https://localhost:8080/"
        },
        "id": "zORHuWrVlWDH",
        "outputId": "e78afd2a-7744-461c-c86c-4072179c3a83"
      },
      "execution_count": null,
      "outputs": [
        {
          "output_type": "stream",
          "name": "stdout",
          "text": [
            "Nama\t\t: Marizka mauliddani febrianti\n",
            "Kelas\t\t: X.8\n",
            "No. Absen\t: 15\n"
          ]
        }
      ]
    },
    {
      "cell_type": "code",
      "source": [
        "print(\"Nama:Ja'far Shodiq\\nKelas: X.8\\nNo. Absen:15\")"
      ],
      "metadata": {
        "colab": {
          "base_uri": "https://localhost:8080/"
        },
        "id": "V7wXIhAImFoW",
        "outputId": "8536d839-134d-4d30-9a0e-7254a55868e2"
      },
      "execution_count": null,
      "outputs": [
        {
          "output_type": "stream",
          "name": "stdout",
          "text": [
            "Nama:Ja'far Shodiq\n",
            "Kelas: X.8\n",
            "No. Absen:15\n"
          ]
        }
      ]
    },
    {
      "cell_type": "code",
      "source": [
        "print('Nama: Ja\\'far Shodiq\\nKelas: X.8\\nNo. Absen;15')"
      ],
      "metadata": {
        "colab": {
          "base_uri": "https://localhost:8080/"
        },
        "id": "fsxd2KBhmtXT",
        "outputId": "46345e19-4ab7-41e6-c3df-c6af4f0eb598"
      },
      "execution_count": null,
      "outputs": [
        {
          "output_type": "stream",
          "name": "stdout",
          "text": [
            "Nama: Ja'far Shodiq\n",
            "Kelas: X.8\n",
            "No. Absen;15\n"
          ]
        }
      ]
    },
    {
      "cell_type": "code",
      "source": [
        "print(\"Lokasi File Tugas KKA: Local Disk C:\\\\KKA\\\\Tugas Marizka\")"
      ],
      "metadata": {
        "colab": {
          "base_uri": "https://localhost:8080/"
        },
        "id": "KsROlweZnKMh",
        "outputId": "37684d60-cf54-4e5d-d93f-e6905fd6d606"
      },
      "execution_count": null,
      "outputs": [
        {
          "output_type": "stream",
          "name": "stdout",
          "text": [
            "Lokasi File Tugas KKA: Local Disk C:\\KKA\\Tugas Marizka\n"
          ]
        }
      ]
    },
    {
      "cell_type": "markdown",
      "source": [
        "#Parameter Fungsi print()"
      ],
      "metadata": {
        "id": "gcJQjVpkqvul"
      }
    },
    {
      "cell_type": "code",
      "source": [
        "Tahun = 2025\n",
        "Bulan = \"Agustus\"\n",
        "Tanggal = 23\n",
        "\n",
        "print(Tahun, Bulan, Tanggal, sep=\"-\")"
      ],
      "metadata": {
        "colab": {
          "base_uri": "https://localhost:8080/"
        },
        "id": "WiTcBIhPq7Qx",
        "outputId": "37f94857-89cd-44cb-e134-b6430080c65e"
      },
      "execution_count": null,
      "outputs": [
        {
          "output_type": "stream",
          "name": "stdout",
          "text": [
            "2025-Agustus-23\n"
          ]
        }
      ]
    },
    {
      "cell_type": "code",
      "source": [
        "nama_depan = \"Marizka\"\n",
        "nama_belakang = \"Febrianti\"\n",
        "print(nama_depan, end=\" \")\n",
        "print(nama_belakang)"
      ],
      "metadata": {
        "colab": {
          "base_uri": "https://localhost:8080/"
        },
        "id": "H6sMD4Birb-V",
        "outputId": "29698d28-f1f3-4d32-ff86-f243a3330eab"
      },
      "execution_count": null,
      "outputs": [
        {
          "output_type": "stream",
          "name": "stdout",
          "text": [
            "Marizka Febrianti\n"
          ]
        }
      ]
    },
    {
      "cell_type": "code",
      "source": [
        "nama_siswa_1=\"Dinda\"\n",
        "nama_siswa_2=\"Aurin\"\n",
        "nama_siswa_3=\"Lisaan\"\n",
        "\n",
        "print(nama_siswa_3,nama_siswa_2,nama_siswa_1,nama_siswa_3,sep=\"/\")"
      ],
      "metadata": {
        "colab": {
          "base_uri": "https://localhost:8080/"
        },
        "id": "SkcIlgGql-GY",
        "outputId": "c1d6b547-1ad1-47e2-a40f-779c6c8bd7ad"
      },
      "execution_count": null,
      "outputs": [
        {
          "output_type": "stream",
          "name": "stdout",
          "text": [
            "Lisaan/Aurin/Dinda/Lisaan\n"
          ]
        }
      ]
    },
    {
      "cell_type": "code",
      "source": [
        "nama_siswa_4=\"Azkal\"\n",
        "nama_siswa_5=\"Hasim\"\n",
        "nama_siswa_6=\"Chilmi\"\n",
        "nama_siswa_7=\"Nova\"\n",
        "\n",
        "print(nama_siswa_6, end=\"~\")\n",
        "print(nama_siswa_4)\n",
        "\n",
        "\n",
        "print(nama_siswa_5, end=\"-\")\n",
        "print(nama_siswa_7)\n",
        "\n",
        "print(nama_siswa_4, end=\"/\")\n",
        "print(nama_siswa_7, end=\"&\")\n",
        "print(nama_siswa_5)"
      ],
      "metadata": {
        "colab": {
          "base_uri": "https://localhost:8080/"
        },
        "id": "f7n9rKmjobbP",
        "outputId": "2e376aad-7cbb-4e17-ea0a-58c763861552"
      },
      "execution_count": null,
      "outputs": [
        {
          "output_type": "stream",
          "name": "stdout",
          "text": [
            "Chilmi~Azkal\n",
            "Hasim-Nova\n",
            "Azkal/Nova&Hasim\n"
          ]
        }
      ]
    }
  ]
}